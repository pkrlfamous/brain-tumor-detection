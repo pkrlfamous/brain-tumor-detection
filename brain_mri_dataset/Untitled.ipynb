{
 "cells": [
  {
   "cell_type": "code",
   "execution_count": 1,
   "id": "96da0241-03b9-49d8-b52d-32241fa7a8f1",
   "metadata": {},
   "outputs": [],
   "source": [
    "import tensorflow as tf\n",
    "import cv2\n",
    "import numpy as np\n",
    "from sklearn.model_selection import train_test_split\n",
    "from sklearn.metrics import precision_score, recall_score, f1_score, confusion_matrix\n",
    "import matplotlib.pyplot as plt\n",
    "import seaborn as sns\n",
    "import os\n",
    "from tf_keras_vis.gradcam import Gradcam"
   ]
  },
  {
   "cell_type": "code",
   "execution_count": null,
   "id": "5f99aa6a-8f01-48bf-a417-b8c3eb05079d",
   "metadata": {},
   "outputs": [],
   "source": [
    "# Load and preprocess images\n",
    "data_dir = \"brain_mri_dataset\"\n",
    "images, labels = [], []\n",
    "for label in [\"tumor\", \"no_tumor\"]:\n",
    "    folder = os.path.join(data_dir, label)\n",
    "    for img_name in os.listdir(folder):\n",
    "        img = cv2.imread(os.path.join(folder, img_name), cv2.IMREAD_GRAYSCALE)\n",
    "        img = cv2.resize(img, (128, 128)) / 255.0\n",
    "        images.append(img)\n",
    "        labels.append(1 if label == \"tumor\" else 0)\n",
    "\n",
    "images = np.array(images).reshape(-1, 128, 128, 1)\n",
    "labels = np.array(labels)\n",
    "\n",
    "# Split data\n",
    "X_train, X_temp, y_train, y_temp = train_test_split(images, labels, test_size=0.2, random_state=42)\n",
    "X_val, X_test, y_val, y_test = train_test_split(X_temp, y_temp, test_size=0.5, random_state=42)\n",
    "\n",
    "# Data augmentation\n",
    "data_gen = tf.keras.preprocessing.image.ImageDataGenerator(\n",
    "    rotation_range=20,\n",
    "    width_shift_range=0.2,\n",
    "    height_shift_range=0.2,\n",
    "    horizontal_flip=True,\n",
    "    zoom_range=0.2\n",
    ")"
   ]
  },
  {
   "cell_type": "code",
   "execution_count": null,
   "id": "108a2ea7-960e-4d00-9cd9-b63937f67679",
   "metadata": {},
   "outputs": [],
   "source": [
    "from tensorflow.keras.utils import plot_model\n",
    "from tensorflow.keras.applications import MobileNetV2"
   ]
  },
  {
   "cell_type": "code",
   "execution_count": null,
   "id": "748ec642-f70c-427d-bd3e-142c6cbc34ce",
   "metadata": {},
   "outputs": [],
   "source": [
    "def build_model():\n",
    "    base_model = MobileNetV2(input_shape=(128, 128, 3), include_top=False, weights=\"imagenet\")\n",
    "    base_model.trainable = False\n",
    "    model = tf.keras.Sequential([\n",
    "        tf.keras.layers.Input(shape=(128, 128, 1)),\n",
    "        tf.keras.layers.Lambda(lambda x: tf.image.grayscale_to_rgb(x)),\n",
    "        base_model,\n",
    "        tf.keras.layers.GlobalAveragePooling2D(),\n",
    "        tf.keras.layers.Dense(1, activation=\"sigmoid\")\n",
    "    ])\n",
    "    return model\n",
    "\n",
    "model = build_model()\n",
    "plot_model(model, to_file=\"mobilenetv2_architecture.png\", show_shapes=True, show_layer_names=True)"
   ]
  }
 ],
 "metadata": {
  "kernelspec": {
   "display_name": "Python (brain-tumor)",
   "language": "python",
   "name": "brain-tumor"
  },
  "language_info": {
   "codemirror_mode": {
    "name": "ipython",
    "version": 3
   },
   "file_extension": ".py",
   "mimetype": "text/x-python",
   "name": "python",
   "nbconvert_exporter": "python",
   "pygments_lexer": "ipython3",
   "version": "3.8.18"
  }
 },
 "nbformat": 4,
 "nbformat_minor": 5
}
